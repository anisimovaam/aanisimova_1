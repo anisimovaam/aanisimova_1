{
 "cells": [
  {
   "cell_type": "markdown",
   "id": "df6c8a62-7e3a-4dca-98e4-10c63cb82461",
   "metadata": {
    "tags": []
   },
   "source": [
    "# Data Science Tools and Ecosystem\n"
   ]
  },
  {
   "cell_type": "markdown",
   "id": "c358e872-a772-4e31-9d30-a178ac847eb6",
   "metadata": {},
   "source": [
    "In this notebook, Data Science Tools and Ecosystem are summarized."
   ]
  },
  {
   "cell_type": "markdown",
   "id": "e5d8fab2-3b5d-4907-80f9-11a217a2e334",
   "metadata": {},
   "source": [
    "**Objectives**:\n",
    "* List popular languages for Data Science\n",
    "* List popular Data Science tools\n",
    "* Introducing to GitHub\n",
    "* Introducing RStudio\n",
    "* Introducing Jupyter Notebook\n",
    "\n"
   ]
  },
  {
   "cell_type": "code",
   "execution_count": null,
   "id": "dbaf614e-2323-4460-9f86-d3fb968494f2",
   "metadata": {},
   "outputs": [],
   "source": []
  },
  {
   "cell_type": "markdown",
   "id": "ff54428c-c5e4-4ba9-b95f-b6afe021ad63",
   "metadata": {},
   "source": [
    "Some of the popular languages that Data Scientists use are:\n",
    "1. Python\n",
    "2. R\n",
    "3. SQL\n",
    "4. Java"
   ]
  },
  {
   "cell_type": "markdown",
   "id": "73c6150b-737f-47c7-be30-262f537dd0e7",
   "metadata": {
    "tags": []
   },
   "source": [
    "Some of the commonly used libraries used by Data Scientists include:\n",
    "1. Pandas\n",
    "2. NumPy\n",
    "3. SciPy\n",
    "4. Sci-Kit Learn"
   ]
  },
  {
   "cell_type": "markdown",
   "id": "17bd4741-11eb-466f-ad38-d8c7b4cb2224",
   "metadata": {
    "tags": []
   },
   "source": [
    "| Data Science Tools | \n",
    "| ------ |\n",
    "| Jupyter Notebook | \n",
    "| RStudio IDE | \n",
    "| GitHub | \n"
   ]
  },
  {
   "cell_type": "markdown",
   "id": "18c908f9-a7ae-486a-a90d-9d206922933a",
   "metadata": {
    "tags": []
   },
   "source": [
    "### Below are a few examples of evaluating arithmetic expressions in Python"
   ]
  },
  {
   "cell_type": "code",
   "execution_count": 10,
   "id": "7310d041-651a-4198-b4ae-8cdb2a9ff7c1",
   "metadata": {},
   "outputs": [],
   "source": [
    "# This a simple arithmetic expression to mutiply then add integers"
   ]
  },
  {
   "cell_type": "code",
   "execution_count": 9,
   "id": "1d6f4986-d5e3-4ce0-b682-3401cdc8e5af",
   "metadata": {},
   "outputs": [
    {
     "data": {
      "text/plain": [
       "17"
      ]
     },
     "execution_count": 9,
     "metadata": {},
     "output_type": "execute_result"
    }
   ],
   "source": [
    "(3*4)+5"
   ]
  },
  {
   "cell_type": "code",
   "execution_count": 7,
   "id": "320924ac-9922-4cba-96b0-b846e673c877",
   "metadata": {},
   "outputs": [],
   "source": [
    "# This will convert 200 minutes to hours by diving by 60"
   ]
  },
  {
   "cell_type": "code",
   "execution_count": 8,
   "id": "5bb386dd-eb4c-47f1-bfc7-6798dc25ee48",
   "metadata": {},
   "outputs": [
    {
     "data": {
      "text/plain": [
       "3.3333333333333335"
      ]
     },
     "execution_count": 8,
     "metadata": {},
     "output_type": "execute_result"
    }
   ],
   "source": [
    "200/60"
   ]
  },
  {
   "cell_type": "markdown",
   "id": "7e78d022-3cb5-45f0-96c5-ea79d2fa0a8b",
   "metadata": {},
   "source": [
    "## Author\n",
    "Anisimova Alona"
   ]
  }
 ],
 "metadata": {
  "kernelspec": {
   "display_name": "Python",
   "language": "python",
   "name": "conda-env-python-py"
  },
  "language_info": {
   "codemirror_mode": {
    "name": "ipython",
    "version": 3
   },
   "file_extension": ".py",
   "mimetype": "text/x-python",
   "name": "python",
   "nbconvert_exporter": "python",
   "pygments_lexer": "ipython3",
   "version": "3.7.12"
  }
 },
 "nbformat": 4,
 "nbformat_minor": 5
}
